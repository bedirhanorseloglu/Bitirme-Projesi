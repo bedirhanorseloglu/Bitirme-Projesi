{
  "nbformat": 4,
  "nbformat_minor": 0,
  "metadata": {
    "colab": {
      "provenance": []
    },
    "kernelspec": {
      "name": "python3",
      "display_name": "Python 3"
    },
    "language_info": {
      "name": "python"
    },
    "widgets": {
      "application/vnd.jupyter.widget-state+json": {
        "44655ecbe9fc4f89b3d10c55b13b0aa4": {
          "model_module": "@jupyter-widgets/controls",
          "model_name": "HBoxModel",
          "model_module_version": "1.5.0",
          "state": {
            "_dom_classes": [],
            "_model_module": "@jupyter-widgets/controls",
            "_model_module_version": "1.5.0",
            "_model_name": "HBoxModel",
            "_view_count": null,
            "_view_module": "@jupyter-widgets/controls",
            "_view_module_version": "1.5.0",
            "_view_name": "HBoxView",
            "box_style": "",
            "children": [
              "IPY_MODEL_9140fb69aa074bf6b449a44a32042b65",
              "IPY_MODEL_5856d67dcb0f415e839f8a1c0cc40a50",
              "IPY_MODEL_87d6b498afca43f4a29d1df18fdc3af9"
            ],
            "layout": "IPY_MODEL_a99818c3bf1f47708a8df997a4150bbb"
          }
        },
        "9140fb69aa074bf6b449a44a32042b65": {
          "model_module": "@jupyter-widgets/controls",
          "model_name": "HTMLModel",
          "model_module_version": "1.5.0",
          "state": {
            "_dom_classes": [],
            "_model_module": "@jupyter-widgets/controls",
            "_model_module_version": "1.5.0",
            "_model_name": "HTMLModel",
            "_view_count": null,
            "_view_module": "@jupyter-widgets/controls",
            "_view_module_version": "1.5.0",
            "_view_name": "HTMLView",
            "description": "",
            "description_tooltip": null,
            "layout": "IPY_MODEL_5a98c9523b274c7987db93fa9075b746",
            "placeholder": "​",
            "style": "IPY_MODEL_6e24ce03c75749b582f2fd0b9d203a82",
            "value": "100%"
          }
        },
        "5856d67dcb0f415e839f8a1c0cc40a50": {
          "model_module": "@jupyter-widgets/controls",
          "model_name": "FloatProgressModel",
          "model_module_version": "1.5.0",
          "state": {
            "_dom_classes": [],
            "_model_module": "@jupyter-widgets/controls",
            "_model_module_version": "1.5.0",
            "_model_name": "FloatProgressModel",
            "_view_count": null,
            "_view_module": "@jupyter-widgets/controls",
            "_view_module_version": "1.5.0",
            "_view_name": "ProgressView",
            "bar_style": "success",
            "description": "",
            "description_tooltip": null,
            "layout": "IPY_MODEL_e97a3333bcac4c99ab9a3b1f6a64aa55",
            "max": 1896,
            "min": 0,
            "orientation": "horizontal",
            "style": "IPY_MODEL_3ab25a35c6914195bce882a7d382c2ca",
            "value": 1896
          }
        },
        "87d6b498afca43f4a29d1df18fdc3af9": {
          "model_module": "@jupyter-widgets/controls",
          "model_name": "HTMLModel",
          "model_module_version": "1.5.0",
          "state": {
            "_dom_classes": [],
            "_model_module": "@jupyter-widgets/controls",
            "_model_module_version": "1.5.0",
            "_model_name": "HTMLModel",
            "_view_count": null,
            "_view_module": "@jupyter-widgets/controls",
            "_view_module_version": "1.5.0",
            "_view_name": "HTMLView",
            "description": "",
            "description_tooltip": null,
            "layout": "IPY_MODEL_22c7d6a55c484fd197e02e7e378f7751",
            "placeholder": "​",
            "style": "IPY_MODEL_739ec2fd45ee4dfb8a95a85b5f79798e",
            "value": " 1896/1896 [00:47&lt;00:00, 76.66it/s]"
          }
        },
        "a99818c3bf1f47708a8df997a4150bbb": {
          "model_module": "@jupyter-widgets/base",
          "model_name": "LayoutModel",
          "model_module_version": "1.2.0",
          "state": {
            "_model_module": "@jupyter-widgets/base",
            "_model_module_version": "1.2.0",
            "_model_name": "LayoutModel",
            "_view_count": null,
            "_view_module": "@jupyter-widgets/base",
            "_view_module_version": "1.2.0",
            "_view_name": "LayoutView",
            "align_content": null,
            "align_items": null,
            "align_self": null,
            "border": null,
            "bottom": null,
            "display": null,
            "flex": null,
            "flex_flow": null,
            "grid_area": null,
            "grid_auto_columns": null,
            "grid_auto_flow": null,
            "grid_auto_rows": null,
            "grid_column": null,
            "grid_gap": null,
            "grid_row": null,
            "grid_template_areas": null,
            "grid_template_columns": null,
            "grid_template_rows": null,
            "height": null,
            "justify_content": null,
            "justify_items": null,
            "left": null,
            "margin": null,
            "max_height": null,
            "max_width": null,
            "min_height": null,
            "min_width": null,
            "object_fit": null,
            "object_position": null,
            "order": null,
            "overflow": null,
            "overflow_x": null,
            "overflow_y": null,
            "padding": null,
            "right": null,
            "top": null,
            "visibility": null,
            "width": null
          }
        },
        "5a98c9523b274c7987db93fa9075b746": {
          "model_module": "@jupyter-widgets/base",
          "model_name": "LayoutModel",
          "model_module_version": "1.2.0",
          "state": {
            "_model_module": "@jupyter-widgets/base",
            "_model_module_version": "1.2.0",
            "_model_name": "LayoutModel",
            "_view_count": null,
            "_view_module": "@jupyter-widgets/base",
            "_view_module_version": "1.2.0",
            "_view_name": "LayoutView",
            "align_content": null,
            "align_items": null,
            "align_self": null,
            "border": null,
            "bottom": null,
            "display": null,
            "flex": null,
            "flex_flow": null,
            "grid_area": null,
            "grid_auto_columns": null,
            "grid_auto_flow": null,
            "grid_auto_rows": null,
            "grid_column": null,
            "grid_gap": null,
            "grid_row": null,
            "grid_template_areas": null,
            "grid_template_columns": null,
            "grid_template_rows": null,
            "height": null,
            "justify_content": null,
            "justify_items": null,
            "left": null,
            "margin": null,
            "max_height": null,
            "max_width": null,
            "min_height": null,
            "min_width": null,
            "object_fit": null,
            "object_position": null,
            "order": null,
            "overflow": null,
            "overflow_x": null,
            "overflow_y": null,
            "padding": null,
            "right": null,
            "top": null,
            "visibility": null,
            "width": null
          }
        },
        "6e24ce03c75749b582f2fd0b9d203a82": {
          "model_module": "@jupyter-widgets/controls",
          "model_name": "DescriptionStyleModel",
          "model_module_version": "1.5.0",
          "state": {
            "_model_module": "@jupyter-widgets/controls",
            "_model_module_version": "1.5.0",
            "_model_name": "DescriptionStyleModel",
            "_view_count": null,
            "_view_module": "@jupyter-widgets/base",
            "_view_module_version": "1.2.0",
            "_view_name": "StyleView",
            "description_width": ""
          }
        },
        "e97a3333bcac4c99ab9a3b1f6a64aa55": {
          "model_module": "@jupyter-widgets/base",
          "model_name": "LayoutModel",
          "model_module_version": "1.2.0",
          "state": {
            "_model_module": "@jupyter-widgets/base",
            "_model_module_version": "1.2.0",
            "_model_name": "LayoutModel",
            "_view_count": null,
            "_view_module": "@jupyter-widgets/base",
            "_view_module_version": "1.2.0",
            "_view_name": "LayoutView",
            "align_content": null,
            "align_items": null,
            "align_self": null,
            "border": null,
            "bottom": null,
            "display": null,
            "flex": null,
            "flex_flow": null,
            "grid_area": null,
            "grid_auto_columns": null,
            "grid_auto_flow": null,
            "grid_auto_rows": null,
            "grid_column": null,
            "grid_gap": null,
            "grid_row": null,
            "grid_template_areas": null,
            "grid_template_columns": null,
            "grid_template_rows": null,
            "height": null,
            "justify_content": null,
            "justify_items": null,
            "left": null,
            "margin": null,
            "max_height": null,
            "max_width": null,
            "min_height": null,
            "min_width": null,
            "object_fit": null,
            "object_position": null,
            "order": null,
            "overflow": null,
            "overflow_x": null,
            "overflow_y": null,
            "padding": null,
            "right": null,
            "top": null,
            "visibility": null,
            "width": null
          }
        },
        "3ab25a35c6914195bce882a7d382c2ca": {
          "model_module": "@jupyter-widgets/controls",
          "model_name": "ProgressStyleModel",
          "model_module_version": "1.5.0",
          "state": {
            "_model_module": "@jupyter-widgets/controls",
            "_model_module_version": "1.5.0",
            "_model_name": "ProgressStyleModel",
            "_view_count": null,
            "_view_module": "@jupyter-widgets/base",
            "_view_module_version": "1.2.0",
            "_view_name": "StyleView",
            "bar_color": null,
            "description_width": ""
          }
        },
        "22c7d6a55c484fd197e02e7e378f7751": {
          "model_module": "@jupyter-widgets/base",
          "model_name": "LayoutModel",
          "model_module_version": "1.2.0",
          "state": {
            "_model_module": "@jupyter-widgets/base",
            "_model_module_version": "1.2.0",
            "_model_name": "LayoutModel",
            "_view_count": null,
            "_view_module": "@jupyter-widgets/base",
            "_view_module_version": "1.2.0",
            "_view_name": "LayoutView",
            "align_content": null,
            "align_items": null,
            "align_self": null,
            "border": null,
            "bottom": null,
            "display": null,
            "flex": null,
            "flex_flow": null,
            "grid_area": null,
            "grid_auto_columns": null,
            "grid_auto_flow": null,
            "grid_auto_rows": null,
            "grid_column": null,
            "grid_gap": null,
            "grid_row": null,
            "grid_template_areas": null,
            "grid_template_columns": null,
            "grid_template_rows": null,
            "height": null,
            "justify_content": null,
            "justify_items": null,
            "left": null,
            "margin": null,
            "max_height": null,
            "max_width": null,
            "min_height": null,
            "min_width": null,
            "object_fit": null,
            "object_position": null,
            "order": null,
            "overflow": null,
            "overflow_x": null,
            "overflow_y": null,
            "padding": null,
            "right": null,
            "top": null,
            "visibility": null,
            "width": null
          }
        },
        "739ec2fd45ee4dfb8a95a85b5f79798e": {
          "model_module": "@jupyter-widgets/controls",
          "model_name": "DescriptionStyleModel",
          "model_module_version": "1.5.0",
          "state": {
            "_model_module": "@jupyter-widgets/controls",
            "_model_module_version": "1.5.0",
            "_model_name": "DescriptionStyleModel",
            "_view_count": null,
            "_view_module": "@jupyter-widgets/base",
            "_view_module_version": "1.2.0",
            "_view_name": "StyleView",
            "description_width": ""
          }
        }
      }
    }
  },
  "cells": [
    {
      "cell_type": "markdown",
      "source": [
        "# 1- Drive Bağlantısı"
      ],
      "metadata": {
        "id": "_TJmniJ4-BiY"
      }
    },
    {
      "cell_type": "code",
      "execution_count": null,
      "metadata": {
        "colab": {
          "base_uri": "https://localhost:8080/"
        },
        "id": "NlvKn8KFO70n",
        "outputId": "1e739692-a703-4963-c099-4190186cf02d"
      },
      "outputs": [
        {
          "output_type": "stream",
          "name": "stdout",
          "text": [
            "Drive already mounted at /content/drive; to attempt to forcibly remount, call drive.mount(\"/content/drive\", force_remount=True).\n"
          ]
        }
      ],
      "source": [
        "from google.colab import drive\n",
        "drive.mount('/content/drive')"
      ]
    },
    {
      "cell_type": "markdown",
      "source": [
        "# 2- Kütüphaneler"
      ],
      "metadata": {
        "id": "IJZG5tfX0jbq"
      }
    },
    {
      "cell_type": "code",
      "source": [
        "!pip install pymap3d pyproj"
      ],
      "metadata": {
        "colab": {
          "base_uri": "https://localhost:8080/"
        },
        "id": "8ja9w4PiNqKq",
        "outputId": "0f87bf24-199b-49cc-a762-936f65141a9a"
      },
      "execution_count": null,
      "outputs": [
        {
          "output_type": "stream",
          "name": "stdout",
          "text": [
            "Requirement already satisfied: pymap3d in /usr/local/lib/python3.10/dist-packages (3.1.0)\n",
            "Requirement already satisfied: pyproj in /usr/local/lib/python3.10/dist-packages (3.7.0)\n",
            "Requirement already satisfied: certifi in /usr/local/lib/python3.10/dist-packages (from pyproj) (2024.12.14)\n"
          ]
        }
      ]
    },
    {
      "cell_type": "code",
      "source": [
        "# 1. Matematik ve Sayısal İşlemler\n",
        "import math\n",
        "import numpy as np\n",
        "import scipy.optimize # Optimizasyon işlemleri için\n",
        "from scipy.spatial import distance # İki nokta arasındaki mesafeleri hesaplamak için.\n",
        "from scipy import signal #  Sinyal işleme fonksiyonları için\n",
        "from scipy.interpolate import InterpolatedUnivariateSpline # Veriler üzerinde spline interpolasyonu yapmak için. Yani; noktalar arasında düzgün, kesintisiz ve pürüzsüz eğriler oluşturur.\n",
        "\n",
        "# 2. Görselleştirme ve Veri Analizi\n",
        "import pandas as pd\n",
        "import matplotlib.pyplot as plt\n",
        "import plotly.express as px # Etkileşimli ve daha gelişmiş görselleştirmeler için.\n",
        "import plotly.graph_objects as go # Etkileşimli ve daha gelişmiş görselleştirmeler için.\n",
        "\n",
        "# 3. Coğrafi Hesaplamalar\n",
        "import pymap3d as pm # GNSS konum verilerinin dönüştürülmesi ve Vincenty formülleri ile mesafe hesaplamaları için.\n",
        "import pymap3d.vincenty as pmv #GNSS konum verilerinin dönüştürülmesi ve Vincenty formülleri ile mesafe hesaplamaları için.\n",
        "import pyproj as proj # Coğrafi projeksiyonlar ve dönüşümler için.\n",
        "\n",
        "# 4. Makine Öğrenimi ve Derin Öğrenme\n",
        "from tensorflow import keras # Derin öğrenme modelleri oluşturmak ve eğitmek için.\n",
        "from keras import layers # Yapay sinir ağları katmanlarını tanımlamak ve oluşturmak için .\n",
        "from keras import models # Yapay sinir ağları modellerini tanımlamak ve oluşturmak için.\n",
        "\n",
        "# 5. Dosya ve İlerleme Takibi\n",
        "import glob as gl # Dosya sistemi ile çalışmak ve belirli desenlere uyan dosyaları bulmak için.\n",
        "from tqdm.auto import tqdm # Uzun süren işlemlerde  ilerleme çubuğu oluşturmak için.\n",
        "\n",
        "# 6. Gereksiz Uyarıları Görmeme\n",
        "import warnings\n",
        "warnings.filterwarnings('ignore', category=FutureWarning)\n",
        "warnings.filterwarnings(\"ignore\", category=DeprecationWarning)\n",
        "\n",
        "# Sabitler\n",
        "CLIGHT = 299_792_458   # Işık Hızı (m/s). GNSS sinyallerinin uydu ile alıcı arasında hareket etme hızını temsil edecek.\n",
        "RE_WGS84 = 6_378_137   # Dünya Yarıçapı (WGS84 yöntemiyle ölçülmüştür) (m). Dünya'nın WGS84 referans elipsoidine göre ekvator yarıçapını temsil edecek.\n",
        "OMGE = 7.2921151467E-5  # Dünya'nın Açısal Hızı (rad/s). Dünya'nın kendi ekseni etrafındaki dönüş hızını temsil eder.  Konum hesaplamalarında kullanılır."
      ],
      "metadata": {
        "id": "XLi8O0gTNsW5"
      },
      "execution_count": null,
      "outputs": []
    },
    {
      "cell_type": "markdown",
      "source": [
        "# 3- Uydu Seçimi"
      ],
      "metadata": {
        "id": "I2l7iVhX1eG6"
      }
    },
    {
      "cell_type": "markdown",
      "source": [
        "Bu fonksiyon, bir GNSS veri çerçevesinden (ör. device_gnss.csv dosyasından alınan veriler) belirli kriterlere göre uydu sinyallerini seçmek için kullanılacaktır.\n",
        "\n",
        "Fonksiyon, aşağıdaki ölçütlere uymayan uydu sinyallerini filtreleyerek daha güvenilir veriler elde edilmesini sağlar:\n",
        "- **Taşıyıcı frekans hatası (CarrierErrorHz) 2 MHz'ten küçük olmalı.** Çünkü, GNSS sinyallerinde taşıyıcı frekans hatasının küçük olması, sinyalin doğru bir şekilde alınması için önemlidir. 2 MHz üzerindeki hatalar genellikle sinyaldeki parazit veya sapmalardan kaynaklanır ve güvenilir veri elde edilmesini zorlaştırır.\n",
        "\n",
        "- **Uydu eğim açısı (SvElevationDegrees) 10 dereceden büyük olmalı.** Çünkü, 10 derece altındaki açılar veya 15 derece üstündeki açılar, sinyalin atmosferik etkilerden (örneğin troposferik kırılma ya da bir diğer deyişle GPS uydusunun sinyalinin varışındaki gecikme) daha fazla etkilenmesine neden olabilir. Ayrıca, alıcıya gelen sinyalin zayıf olması düşük eğim açılarında daha olasıdır.\n",
        "\n",
        "- **Taşıyıcı-gürültü oranı (Cn0DbHz) 15 dB-Hz'den büyük olmalı.** Çünkü, Taşıyıcı-gürültü oranı, sinyal kalitesini gösteren önemli bir metriktir. 15 dB-Hz altındaki sinyaller zayıf olarak kabul edilir ve konum belirleme doğruluğunu olumsuz etkileyebilir.\n",
        "\n",
        "- **Çoklu yol etkisi (MultipathIndicator) olmadığını belirtmeli.** Çünkü, Çoklu yol etkisi, GNSS sinyallerinin yüzeylerden yansıması sonucu farklı yollardan alıcıya ulaşmasıdır. Bu durum, sinyalin doğruluğunu ciddi şekilde bozabilir. Bu nedenle, yalnızca doğrudan gelen sinyaller seçilmelidir.\n",
        "\n",
        "Bu fonksiyonu yazmamızdaki sebep, GNSS sinyallerinin doğruluğunu artırmak ve hatalı sinyallerden kaynaklanan sapmaları azaltmaktır."
      ],
      "metadata": {
        "id": "N5cgW7OJ2w1g"
      }
    },
    {
      "cell_type": "code",
      "source": [
        "# GNSS veri çerçevesinden uydu sinyallerini belirli kriterlere göre filtreleyen fonksiyon\n",
        "def satellite_selection(df, column):\n",
        "    \"\"\"\n",
        "    Bu fonksiyon, GNSS veri çerçevesinden belirli kriterlere uymayan uydu sinyallerini filtreler.\n",
        "\n",
        "    Args:\n",
        "        df : DataFrame from device_gnss.csv\n",
        "            GNSS ölçümlerini içeren veri çerçevesi.\n",
        "        column : str\n",
        "            Sinyallerin filtreleneceği sütunun adı.\n",
        "\n",
        "    Returns:\n",
        "        df : DataFrame\n",
        "            Belirtilen kriterlere uyan uydu sinyallerini içeren filtrelenmiş veri çerçevesi geri döndürülecek.\n",
        "    \"\"\"\n",
        "    # Null olmayan değerlerle çalışmak için\n",
        "    idx = df[column].notnull()\n",
        "\n",
        "    # Taşıyıcı frekans hatası (CarrierErrorHz) 2 MHz'ten küçük olmalı. Çünkü:\n",
        "    #  - GNSS sinyallerinde taşıyıcı frekans hatasının küçük olması, sinyali doğru bir şekilde almamız için önemlidir.\n",
        "    #  - 2 MHz üzerindeki hatalar genellikle sinyaldeki parazit veya sapmalardan kaynaklanır ve güvenilir veriyi elde etmemizi zorlaştırır.\n",
        "    idx &= df['CarrierErrorHz'] < 2.0e6\n",
        "\n",
        "    # Uydu eğim açısı (SvElevationDegrees) 10 ila 15 derece arasında olmalı. Çünkü:\n",
        "    #  - 10 derece altındaki açılar, sinyalin atmosferik etkilerden (örneğin troposferik kırılma - sinyaldeki gecikme) daha fazla etkilenmesine neden olabilir.\n",
        "    #  - Ayrıca,  eğim açısı düştükçe alıcıya gelen sinyalin zayıflaması daha olasıdır.\n",
        "    idx &= df['SvElevationDegrees'] > 10.0\n",
        "\n",
        "    # Taşıyıcı-gürültü oranı (C/N0) 15 dB-Hz'den büyük olmalı. Çünkü:\n",
        "    # - Taşıyıcı-gürültü oranı, sinyal kalitesini gösteren önemli bir metriktir.\n",
        "    # - 15 dB-Hz altındaki sinyaller zayıf olarak kabul edilir ve konum belirleme doğruluğunu olumsuz etkileyebilir.\n",
        "    idx &= df['Cn0DbHz'] > 15.0\n",
        "\n",
        "    # Çoklu yol etkisi (MultipathIndicator = 0) olmamalı. Çünkü:\n",
        "    # - Çoklu yol etkisi, GNSS sinyallerinin yüzeylerden yansıması sonucu farklı yollardan alıcıya ulaşmasıdır.\n",
        "    # - Bu durum, sinyalin doğruluğunu ciddi şekilde bozabilir. Bu nedenle, yalnızca doğrudan gelen sinyaller seçilmeli , yüzeyden seken sinyalleri egale etmeliyiz.\n",
        "    idx &= df['MultipathIndicator'] == 0\n",
        "\n",
        "    # Belirtilen kriterlere uyan satırları döndür\n",
        "    return df[idx]\n"
      ],
      "metadata": {
        "id": "X6n_dVLTN453"
      },
      "execution_count": null,
      "outputs": []
    },
    {
      "cell_type": "markdown",
      "source": [
        "# 4- Uydu Sinyallerinden Yeryüzündeki Bir Kullanıcının Konumunu ve Hızını Hesaplama (Weighted Least Squares / Ağırlıklı En Küçük Kareler Yönemi İle)"
      ],
      "metadata": {
        "id": "5CFAQqrf-MBW"
      }
    },
    {
      "cell_type": "code",
      "source": [
        "def point_positioning(gnss_df):\n",
        "    # Her uydu (Svid) ve sinyal tipi (SignalType) için taşıyıcı frekansı (CarrierFrequencyHz) sütunundaki medyan değerleri hesaplıyoruz.\n",
        "    CarrierFrequencyHzRef = gnss_df.groupby(['Svid', 'SignalType'])['CarrierFrequencyHz'].median()\n",
        "    # Yukarıda oluştruduğumuz her medyan değerini, orijinal GNSS verileriyle birleştirdik\n",
        "    gnss_df = gnss_df.merge(CarrierFrequencyHzRef, how='left', on=['Svid', 'SignalType'], suffixes=('', 'Ref'))\n",
        "\n",
        "    # Üstte Hesapladığım CarrierFrequencyHzRef ile veri setinde bulunan CarrierFrequencyHz arasındaki farkı bularak taşıyıcı frekansı hatasını (CarrierErrorHz) hesapladık ...\n",
        "    # ... ve veri setimizde 'CarrierErrorHz' sütununu ekledik\n",
        "    # Çünkü başlarda da bahsettiğimiz gibi Taşıyıcı frekans hatası (CarrierErrorHz) 2 MHz'ten küçük olursa işimize yarayacak\n",
        "    gnss_df['CarrierErrorHz'] = np.abs((gnss_df['CarrierFrequencyHz'] - gnss_df['CarrierFrequencyHzRef']))\n",
        "\n",
        "    # Pseudorange verisini (gerçek mesafe ölçümünden elde edilen değer) Carrier Smoothing (taşıyıcı-pürüzsüzleştirme) yöntemiyle düzgünleştirdik.\n",
        "    # Basitçe Carrier Smoothing: pseudorange verisinin doğruluğunu artırmak için kullanılan bir tekniktir. Verilerdeki gürültüyü azaltır ve daha doğru yer belirleme (positioning) sağlar\n",
        "    gnss_df = carrier_smoothing(gnss_df)\n",
        "\n",
        "    # Benzersiz zaman damgalarını alacak ve toplam iterasyon sayısını hesaplayacağız. Yani, kaç farklı zaman noktasının (epoch) veri setinde bulunduğunu göstereceğiz\n",
        "    utcTimeMillis = gnss_df['utcTimeMillis'].unique() # \"utcTimeMillis\", her bir veri kaydının zamanını milisaniye cinsinden temsil ediyor.\n",
        "    nepoch = len(utcTimeMillis)  # Toplam iterasyon sayısı\n",
        "\n",
        "    # Pozisyon ve hız için başlangıç vektörlerini tanımladık\n",
        "    x0 = np.zeros(4)  # Başlangıç pozisyon [x, y, z, saat] -> her birine ilk değer olarak 0 atadık\n",
        "    v0 = np.zeros(4)  # Başlangıç hız [vx, vy, vz, saat] -> her birine ilk değer olarak 0 atadık\n",
        "\n",
        "    # Pozisyon ve hız tahminlerini kayıt etmek için matrisler oluşturacağız\n",
        "    x_wls = np.full([nepoch, 3], np.nan)  # Pozisyon tahminlerini kaydetmek için\n",
        "    v_wls = np.full([nepoch, 3], np.nan)  # Hız tahminlerini kaydetmek için\n",
        "\n",
        "\n",
        "    for i, (t_utc, df) in enumerate(tqdm(gnss_df.groupby('utcTimeMillis'), total=nepoch)):\n",
        "        # Geçerli uydu sinyallerini Pseudorange verisi için seçelim\n",
        "        df_pr = satellite_selection(df, 'pr_smooth')\n",
        "        # Geçerli uydu sinyallerini Pseudorange Rate verisi için seçelim\n",
        "        df_prr = satellite_selection(df, 'PseudorangeRateMetersPerSecond')  # PseudorangeRateMetersPerSecond, pseudorange'nin zamanla değişme hızını (yani, alıcı ile uydu arasındaki mesafenin hızını) ifade eder.\n",
        "\n",
        "        # GNSS verisindeki pseudorange hatalarını düzeltmek için gerekli düzenlemeler yapacağız:\n",
        "        # - SvClockBiasMeters: Uydu saatinin yanlışı (saat kayması)\n",
        "        # - IsrbMeters:  uydunun yerçekimi, ortam koşulları veya diğer etmenler nedeniyle oluşan küçük sapmaları ifade eder\n",
        "        # - IonosphericDelayMeters (İyonosferik Gecikme): GNSS sinyalleri, iyonosferdeki serbest elektron yoğunluğu nedeniyle hız kaybına uğrar.\n",
        "        # - TroposphericDelayMeters (Troposferik Gecikme): Troposferdeki nem, sıcaklık ve basınç faktörler,, GNSS sinyallerini etkileyebilir ve bu da sinyallerin alıcıya ulaşma süresini uzatır.\n",
        "        pr = (df_pr['pr_smooth'] + df_pr['SvClockBiasMeters'] - df_pr['IsrbMeters'] - df_pr['IonosphericDelayMeters'] - df_pr['TroposphericDelayMeters']).to_numpy()\n",
        "\n",
        "        # Pseudorange Rate (Pseudorange Hızı) ve SvClock Drift (Uydu Saat Kayması) verilerini birleştirilerek, düzeltilmiş Pseudorange Rate elde edeceğiz.\n",
        "        prr = (df_prr['PseudorangeRateMetersPerSecond'] + df_prr['SvClockDriftMetersPerSecond']).to_numpy()\n",
        "\n",
        "        # Uydu pozisyon verilerini Pseudorange verisi için alacağız:\n",
        "        #  - ECEF (Earth-Centered, Earth-Fixed): Dünya merkezine dayalı bir koordinat sistemidir.\n",
        "        xsat_pr = df_pr[['SvPositionXEcefMeters', 'SvPositionYEcefMeters','SvPositionZEcefMeters']].to_numpy()\n",
        "\n",
        "        # Uydu pozisyon verilerini Pseudorange Rate verisi için hız için alacağız\n",
        "        xsat_prr = df_prr[['SvPositionXEcefMeters', 'SvPositionYEcefMeters','SvPositionZEcefMeters']].to_numpy()\n",
        "\n",
        "        # Uydu hız verilerini Pseudorange Rate verisi için alacağız\n",
        "        vsat = df_prr[['SvVelocityXEcefMetersPerSecond', 'SvVelocityYEcefMetersPerSecond','SvVelocityZEcefMetersPerSecond']].to_numpy()\n",
        "\n",
        "        # Pseudorange ve Pseudorange Rate için ağırlık matrislerini hesaplayacağız\n",
        "        # Buradaki \"1 / df_pr['RawPseudorangeUncertaintyMeters']\" işlemi:\n",
        "        # Her bir belirsizliğin tersini alır. Belirsizliğin tersten alınması, daha düşük belirsizliğe sahip ölçümlere daha fazla ağırlık verir...\n",
        "        # ... Yüksek belirsizlik, düşük ağırlık anlamına gelir. Yani, güvenilir olmayan ölçümler daha düşük bir ağırlığa sahip olmalı.\n",
        "        Wx = np.diag(1 / df_pr['RawPseudorangeUncertaintyMeters'].to_numpy())\n",
        "        Wv = np.diag(1 / df_prr['PseudorangeRateUncertaintyMetersPerSecond'].to_numpy())\n",
        "\n",
        "\n",
        "        # Artık kullanıcının POZİSYON TAHMİNİNİ yapabiliriz\n",
        "\n",
        "        if len(df_pr) >= 4:  # Konumu doğru belirleyebilmek için en az 4 uydu gerekir -> 3D konum + zaman\n",
        "            if np.all(x0 == 0):  # Başlangıç tahmini 0 ise\n",
        "                # Bu kısımda, LEAST SQUARES (en küçük kareler) yöntemi kullanılarak pozisyon tahmini yapacağız:\n",
        "                # - pr_residuals: Bu fonksiyon, modelle uydu ölçümleri arasındaki farkları hesaplayacak. (residuals = artık)\n",
        "                # - jac_pr_residuals: ölçüm hatalarının (residul) türevini alarak doğrusal olmayan optimizasyonun yapılmasını sağlar.\n",
        "                # - xsat_pr: Uyduların konum verilerini içeren NumPy dizisi.\n",
        "                # - pr: Pseudorange (mesafe ölçüm) verileri.\n",
        "                # - Wx: Pseudorange belirsizliklerine dayalı ağırlık matrisi.\n",
        "                opt = scipy.optimize.least_squares(pr_residuals, x0, jac_pr_residuals, args=(xsat_pr, pr, Wx))\n",
        "\n",
        "                # Daha sonra yukarıda optimize edilen pozisyonu güncel pozisyonumuz olarak güncelledik\n",
        "                x0 = opt.x\n",
        "\n",
        "            # Normal WLS'ten sonra Robust (dayanıklı) WLS ile pozisyon tahmini yaparak ölçüm doğruluğunu arttıracağız:\n",
        "            # Burada\" soft_l1\" loss fonksiyonu kullanılarak, pozisyon tahmini yapılırken daha az güvenilir ölçümlerin etkisi azaltılmak istiyoruz.\n",
        "            opt = scipy.optimize.least_squares(pr_residuals, x0, jac_pr_residuals, args=(xsat_pr, pr, Wx), loss='soft_l1')\n",
        "\n",
        "\n",
        "            # Optimizasyonun durumunu kontrol ederek başarılı mı başarısız mı diye bakalım\n",
        "            # - (0) = Başarılı optimizasyon\n",
        "            # - (1) = Başarıyla tamamlanmış ancak istenen hassasiyete ulaşılmamış.\n",
        "            # - (2) = Optimizasyon başarıyla tamamlanmış ancak maksimum iterasyon sayısına ulaşılmış. Yani, çözüme ulaşmak için daha fazla iterasyon yapılabilirdi ancak durdurulmuş.\n",
        "            # - (-1): Başarısızlık, optimizasyonun çözüme ulaşamadığı durum.\n",
        "            # - (-2): Başarısızlık.\n",
        "            if opt.status < 1 or opt.status == 2:\n",
        "                print(f'i = {i} KONUM optimizasyon durumu = {opt.status}')\n",
        "\n",
        "            else:\n",
        "              # Eğer optimizasyon başarılı bir şekilde tamamlanmışsa, tahmin edilen pozisyon (opt.x) alınır ve x_wls'ye kaydedilir.\n",
        "              # Buradaki opt.x[:3] kısmı, elde edilen 4 elemanlı çözüm vektörünün (3D + Zaman) ilk 3 elemanını (x, y, z koordinatlarını) alır.\n",
        "                x_wls[i, :] = opt.x[:3]  # Tahmin edilen pozisyonu kaydet\n",
        "                x0 = opt.x  # Pozisyonu güncelle\n",
        "\n",
        "\n",
        "\n",
        "\n",
        "        # Kullanıcının HIZ TAHMİNİNİ de yapabliriz\n",
        "\n",
        "        # Üstte konum için yaptığımız tüm işlemlerin aynısını hız için de yapacağız\n",
        "        if len(df_prr) >= 4:  # En az 4 uydu verisi gerekli demiştik\n",
        "            if np.all(v0 == 0):  # Başlangıç tahmini yoksa normal WLS ile başla\n",
        "                opt = scipy.optimize.least_squares(prr_residuals, v0, jac_prr_residuals, args=(vsat, prr, x0, xsat_prr, Wv))\n",
        "                v0 = opt.x  # Optimize edilen hızı güncelledik\n",
        "            # Robust (Dayanıklı) WLS ile hız tahmini yaptık\n",
        "            opt = scipy.optimize.least_squares(prr_residuals, v0, jac_prr_residuals, args=(vsat, prr, x0, xsat_prr, Wv), loss='soft_l1')\n",
        "            if opt.status < 1:  # Yİne optimizaston durumlarını kontrol edeceğiz\n",
        "                print(f'i = {i} HIZ optimizasyon durumu = {opt.status}')\n",
        "            else:\n",
        "                v_wls[i, :] = opt.x[:3]  # Tahmin edilen hızı kaydet\n",
        "                v0 = opt.x  # Hızı güncelle\n",
        "\n",
        "    # Tahmin edilen zaman, pozisyon ve hız değerlerini döndür\n",
        "    return utcTimeMillis, x_wls, v_wls\n"
      ],
      "metadata": {
        "id": "ePKh_QX6N-eX"
      },
      "execution_count": null,
      "outputs": []
    },
    {
      "cell_type": "markdown",
      "source": [],
      "metadata": {
        "id": "RapYOYOgFr-j"
      }
    },
    {
      "cell_type": "code",
      "source": [
        "# Carrier smoothing of pseudarange\n",
        "def carrier_smoothing(gnss_df):"
      ],
      "metadata": {
        "id": "v_9WUFu3OCi8"
      },
      "execution_count": null,
      "outputs": []
    },
    {
      "cell_type": "markdown",
      "source": [],
      "metadata": {
        "id": "5FdxcNCeFszu"
      }
    },
    {
      "cell_type": "code",
      "source": [
        "# Compute line-of-sight vector from user to satellite\n",
        "def los_vector(xusr, xsat):\n"
      ],
      "metadata": {
        "id": "00ovy3-SOEq7"
      },
      "execution_count": null,
      "outputs": []
    },
    {
      "cell_type": "markdown",
      "source": [],
      "metadata": {
        "id": "P4weQepIFt6b"
      }
    },
    {
      "cell_type": "code",
      "source": [
        "# Simple outlier detection and interpolation\n",
        "def exclude_interpolate_outlier(x_wls, v_wls):\n"
      ],
      "metadata": {
        "id": "8x2JbdP1OIxC"
      },
      "execution_count": null,
      "outputs": []
    },
    {
      "cell_type": "markdown",
      "source": [],
      "metadata": {
        "id": "r96ifLvmFvJj"
      }
    },
    {
      "cell_type": "code",
      "source": [
        "# Kalman filter\n",
        "def Kalman_filter(zs, us, phone):\n"
      ],
      "metadata": {
        "id": "epEVIGCFOXjN"
      },
      "execution_count": null,
      "outputs": []
    },
    {
      "cell_type": "markdown",
      "source": [],
      "metadata": {
        "id": "VUyioT4tFwCo"
      }
    },
    {
      "cell_type": "code",
      "source": [
        "path = '/content/drive/MyDrive/BitirmeProjesi/smartphone-decimeter-2022/train/2021-07-19-US-MTV-1/GooglePixel4'\n",
        "drive, phone = path.split('/')[-2:]\n",
        "\n",
        "# Read data\n",
        "gnss_df = pd.read_csv(f'{path}/device_gnss.csv')  # GNSS data\n",
        "gt_df = pd.read_csv(f'{path}/ground_truth.csv')  # ground truth\n",
        "\n",
        "# Point positioning\n",
        "utc, x_wls, v_wls = point_positioning(gnss_df)\n",
        "\n",
        "# Exclude velocity outliers\n",
        "x_wls, v_wls = exclude_interpolate_outlier(x_wls, v_wls)\n",
        "\n",
        "# Kalman smoothing\n",
        "x_kf, _, _ = Kalman_smoothing(x_wls, v_wls, phone)\n",
        "\n",
        "# Convert to latitude and longitude\n",
        "llh_wls = np.array(pm.ecef2geodetic(x_wls[:, 0], x_wls[:, 1], x_wls[:, 2])).T\n",
        "llh_kf = np.array(pm.ecef2geodetic(x_kf[:, 0], x_kf[:, 1], x_kf[:, 2])).T\n",
        "\n",
        "# Baseline\n",
        "x_bl = gnss_df.groupby('TimeNanos')[\n",
        "    ['WlsPositionXEcefMeters', 'WlsPositionYEcefMeters', 'WlsPositionZEcefMeters']].mean().to_numpy()\n",
        "llh_bl = np.array(pm.ecef2geodetic(x_bl[:, 0], x_bl[:, 1], x_bl[:, 2])).T"
      ],
      "metadata": {
        "colab": {
          "base_uri": "https://localhost:8080/",
          "height": 49,
          "referenced_widgets": [
            "44655ecbe9fc4f89b3d10c55b13b0aa4",
            "9140fb69aa074bf6b449a44a32042b65",
            "5856d67dcb0f415e839f8a1c0cc40a50",
            "87d6b498afca43f4a29d1df18fdc3af9",
            "a99818c3bf1f47708a8df997a4150bbb",
            "5a98c9523b274c7987db93fa9075b746",
            "6e24ce03c75749b582f2fd0b9d203a82",
            "e97a3333bcac4c99ab9a3b1f6a64aa55",
            "3ab25a35c6914195bce882a7d382c2ca",
            "22c7d6a55c484fd197e02e7e378f7751",
            "739ec2fd45ee4dfb8a95a85b5f79798e"
          ]
        },
        "id": "AOUu1Ng_ObnM",
        "outputId": "64d93ee6-752f-4d8a-b828-481e59eb8785"
      },
      "execution_count": null,
      "outputs": [
        {
          "output_type": "display_data",
          "data": {
            "text/plain": [
              "  0%|          | 0/1896 [00:00<?, ?it/s]"
            ],
            "application/vnd.jupyter.widget-view+json": {
              "version_major": 2,
              "version_minor": 0,
              "model_id": "44655ecbe9fc4f89b3d10c55b13b0aa4"
            }
          },
          "metadata": {}
        }
      ]
    }
  ]
}